{
 "cells": [
  {
   "cell_type": "markdown",
   "metadata": {
    "ein.tags": "worksheet-0",
    "slideshow": {
     "slide_type": "-"
    }
   },
   "source": [
    "# Lab 04: Linear Regression and Causality\n",
    "\n",
    "This lab asks you to do two tasks:\n",
    "\n",
    "First, to estimate the effect of Right Hearth\n",
    "Catheterization (RHC)--inserting a tiny hollow tube along the arterial into\n",
    "the right side of your heart.  It is often done for diagnostical\n",
    "purposes (it allows to get different measures right in the heart) and\n",
    "it's usually considered safe.\n",
    "\n",
    "We will use a dataset about RHC for critically ill patients and see\n",
    "if RHC is related to increased death rate.  The dataset is downloaded\n",
    "from [Vanderbilt\n",
    "Biostats](http://biostat.mc.vanderbilt.edu/wiki/Main/DataSets) and\n",
    "more information is available at\n",
    "[http://biostat.mc.vanderbilt.edu/wiki/pub/Main/DataSets/rhc.html](http://biostat.mc.vanderbilt.edu/wiki/pub/Main/DataSets/rhc.html).\n",
    "\n",
    "Second, you have to create (or re-create) the design matrices of the\n",
    "first problem, analyze their properties, and compute the regression\n",
    "coefficients of the first part \"manually\", i.e. by a simple matrix\n",
    "expression on computer.\n"
   ]
  },
  {
   "cell_type": "markdown",
   "metadata": {
    "ein.tags": "worksheet-0",
    "slideshow": {
     "slide_type": "-"
    }
   },
   "source": [
    "## 1 Get Ready\n",
    "\n",
    "Load the data.  A tab-separated version is available on canvas (files/data).\n",
    "\n",
    "1. How many observation and variables do we have?\n",
    "2. The most important variables we use below are _death_ (patient\n",
    "death recorded/not recorded) and\n",
    "_swang1_ (rhc performed/not performed).  How are these variables coded?"
   ]
  },
  {
   "cell_type": "code",
   "execution_count": 94,
   "metadata": {},
   "outputs": [
    {
     "name": "stdout",
     "output_type": "stream",
     "text": [
      "number of observations\n",
      " 361305\n"
     ]
    },
    {
     "data": {
      "text/html": [
       "<div>\n",
       "<style>\n",
       "    .dataframe thead tr:only-child th {\n",
       "        text-align: right;\n",
       "    }\n",
       "\n",
       "    .dataframe thead th {\n",
       "        text-align: left;\n",
       "    }\n",
       "\n",
       "    .dataframe tbody tr th {\n",
       "        vertical-align: top;\n",
       "    }\n",
       "</style>\n",
       "<table border=\"1\" class=\"dataframe\">\n",
       "  <thead>\n",
       "    <tr style=\"text-align: right;\">\n",
       "      <th></th>\n",
       "      <th>Unnamed: 0</th>\n",
       "      <th>cat1</th>\n",
       "      <th>cat2</th>\n",
       "      <th>ca</th>\n",
       "      <th>sadmdte</th>\n",
       "      <th>dschdte</th>\n",
       "      <th>dthdte</th>\n",
       "      <th>lstctdte</th>\n",
       "      <th>death</th>\n",
       "      <th>cardiohx</th>\n",
       "      <th>...</th>\n",
       "      <th>meta</th>\n",
       "      <th>hema</th>\n",
       "      <th>seps</th>\n",
       "      <th>trauma</th>\n",
       "      <th>ortho</th>\n",
       "      <th>adld3p</th>\n",
       "      <th>urin1</th>\n",
       "      <th>race</th>\n",
       "      <th>income</th>\n",
       "      <th>ptid</th>\n",
       "    </tr>\n",
       "  </thead>\n",
       "  <tbody>\n",
       "    <tr>\n",
       "      <th>0</th>\n",
       "      <td>1</td>\n",
       "      <td>COPD</td>\n",
       "      <td>NaN</td>\n",
       "      <td>Yes</td>\n",
       "      <td>11142</td>\n",
       "      <td>11151.0</td>\n",
       "      <td>NaN</td>\n",
       "      <td>11382</td>\n",
       "      <td>No</td>\n",
       "      <td>0</td>\n",
       "      <td>...</td>\n",
       "      <td>No</td>\n",
       "      <td>No</td>\n",
       "      <td>No</td>\n",
       "      <td>No</td>\n",
       "      <td>No</td>\n",
       "      <td>0.0</td>\n",
       "      <td>NaN</td>\n",
       "      <td>white</td>\n",
       "      <td>Under $11k</td>\n",
       "      <td>5</td>\n",
       "    </tr>\n",
       "    <tr>\n",
       "      <th>1</th>\n",
       "      <td>2</td>\n",
       "      <td>MOSF w/Sepsis</td>\n",
       "      <td>NaN</td>\n",
       "      <td>No</td>\n",
       "      <td>11799</td>\n",
       "      <td>11844.0</td>\n",
       "      <td>11844.0</td>\n",
       "      <td>11844</td>\n",
       "      <td>Yes</td>\n",
       "      <td>1</td>\n",
       "      <td>...</td>\n",
       "      <td>No</td>\n",
       "      <td>No</td>\n",
       "      <td>Yes</td>\n",
       "      <td>No</td>\n",
       "      <td>No</td>\n",
       "      <td>NaN</td>\n",
       "      <td>1437.0</td>\n",
       "      <td>white</td>\n",
       "      <td>Under $11k</td>\n",
       "      <td>7</td>\n",
       "    </tr>\n",
       "    <tr>\n",
       "      <th>2</th>\n",
       "      <td>3</td>\n",
       "      <td>MOSF w/Malignancy</td>\n",
       "      <td>MOSF w/Sepsis</td>\n",
       "      <td>Yes</td>\n",
       "      <td>12083</td>\n",
       "      <td>12143.0</td>\n",
       "      <td>NaN</td>\n",
       "      <td>12400</td>\n",
       "      <td>No</td>\n",
       "      <td>0</td>\n",
       "      <td>...</td>\n",
       "      <td>No</td>\n",
       "      <td>No</td>\n",
       "      <td>No</td>\n",
       "      <td>No</td>\n",
       "      <td>No</td>\n",
       "      <td>NaN</td>\n",
       "      <td>599.0</td>\n",
       "      <td>white</td>\n",
       "      <td>$25-$50k</td>\n",
       "      <td>9</td>\n",
       "    </tr>\n",
       "    <tr>\n",
       "      <th>3</th>\n",
       "      <td>4</td>\n",
       "      <td>ARF</td>\n",
       "      <td>NaN</td>\n",
       "      <td>No</td>\n",
       "      <td>11146</td>\n",
       "      <td>11183.0</td>\n",
       "      <td>11183.0</td>\n",
       "      <td>11182</td>\n",
       "      <td>Yes</td>\n",
       "      <td>0</td>\n",
       "      <td>...</td>\n",
       "      <td>No</td>\n",
       "      <td>No</td>\n",
       "      <td>No</td>\n",
       "      <td>No</td>\n",
       "      <td>No</td>\n",
       "      <td>NaN</td>\n",
       "      <td>NaN</td>\n",
       "      <td>white</td>\n",
       "      <td>$11-$25k</td>\n",
       "      <td>10</td>\n",
       "    </tr>\n",
       "    <tr>\n",
       "      <th>4</th>\n",
       "      <td>5</td>\n",
       "      <td>MOSF w/Sepsis</td>\n",
       "      <td>NaN</td>\n",
       "      <td>No</td>\n",
       "      <td>12035</td>\n",
       "      <td>12037.0</td>\n",
       "      <td>12037.0</td>\n",
       "      <td>12036</td>\n",
       "      <td>Yes</td>\n",
       "      <td>0</td>\n",
       "      <td>...</td>\n",
       "      <td>No</td>\n",
       "      <td>No</td>\n",
       "      <td>No</td>\n",
       "      <td>No</td>\n",
       "      <td>No</td>\n",
       "      <td>NaN</td>\n",
       "      <td>64.0</td>\n",
       "      <td>white</td>\n",
       "      <td>Under $11k</td>\n",
       "      <td>11</td>\n",
       "    </tr>\n",
       "  </tbody>\n",
       "</table>\n",
       "<p>5 rows × 63 columns</p>\n",
       "</div>"
      ],
      "text/plain": [
       "   Unnamed: 0               cat1           cat2   ca  sadmdte  dschdte  \\\n",
       "0           1               COPD            NaN  Yes    11142  11151.0   \n",
       "1           2      MOSF w/Sepsis            NaN   No    11799  11844.0   \n",
       "2           3  MOSF w/Malignancy  MOSF w/Sepsis  Yes    12083  12143.0   \n",
       "3           4                ARF            NaN   No    11146  11183.0   \n",
       "4           5      MOSF w/Sepsis            NaN   No    12035  12037.0   \n",
       "\n",
       "    dthdte  lstctdte death  cardiohx  ...   meta  hema  seps  trauma  ortho  \\\n",
       "0      NaN     11382    No         0  ...     No    No    No      No     No   \n",
       "1  11844.0     11844   Yes         1  ...     No    No   Yes      No     No   \n",
       "2      NaN     12400    No         0  ...     No    No    No      No     No   \n",
       "3  11183.0     11182   Yes         0  ...     No    No    No      No     No   \n",
       "4  12037.0     12036   Yes         0  ...     No    No    No      No     No   \n",
       "\n",
       "   adld3p   urin1   race      income  ptid  \n",
       "0     0.0     NaN  white  Under $11k     5  \n",
       "1     NaN  1437.0  white  Under $11k     7  \n",
       "2     NaN   599.0  white    $25-$50k     9  \n",
       "3     NaN     NaN  white    $11-$25k    10  \n",
       "4     NaN    64.0  white  Under $11k    11  \n",
       "\n",
       "[5 rows x 63 columns]"
      ]
     },
     "execution_count": 94,
     "metadata": {},
     "output_type": "execute_result"
    }
   ],
   "source": [
    "# Set up\n",
    "import numpy as np\n",
    "import pandas as pd\n",
    "import seaborn as sns # for visualiation\n",
    "from scipy import stats # ANOVA\n",
    "from scipy.stats import ttest_ind # t-tests\n",
    "import statsmodels.formula.api as smf # linear modeling\n",
    "import matplotlib.pyplot as plt # plotting\n",
    "import matplotlib\n",
    "matplotlib.style.use('ggplot')\n",
    "%matplotlib inline \n",
    "\n",
    "# Load the data, replace strings as numeric\n",
    "df = pd.read_csv('rhc.csv')\n",
    "print('number of observations\\n',df.size)\n",
    "df.head()\n",
    "\n",
    "\n",
    "# Swang1 is an object, in no/ yes with RHC or blanks, Death is yes/no\n",
    "\n"
   ]
  },
  {
   "cell_type": "markdown",
   "metadata": {
    "ein.tags": "worksheet-0",
    "slideshow": {
     "slide_type": "-"
    }
   },
   "source": [
    "## 2 Cross-Sectional Estimator\n",
    "\n",
    "Estimate, using linear regression, how is the RHC related to mortality.\n",
    "\n",
    "We start easy: let's just find the relationship between recorded death\n",
    "and rhc.  The important variables are\n",
    "\n",
    "* _death_: patient death recorded/not recorded\n",
    "* _swang1_: rhc performed/not performed\n",
    "\n",
    "This is called \"cross-sectional estimator\", we just compare\n",
    "cross-section of individuals who received and did not receive RHC.\n",
    "\n",
    "Obviously, this is a very crude measure because the hospitals track\n",
    "patients over different time periods, and if contact is lost early,\n",
    "the death may not be recorded.  Another obvious problem is that the\n",
    "patients have very different medical conditions, a factor that\n",
    "most likely plays a role in the decision whether to perform RHC.\n"
   ]
  },
  {
   "cell_type": "code",
   "execution_count": 95,
   "metadata": {},
   "outputs": [
    {
     "data": {
      "text/html": [
       "<table class=\"simpletable\">\n",
       "<caption>OLS Regression Results</caption>\n",
       "<tr>\n",
       "  <th>Dep. Variable:</th>        <td>death_num</td>    <th>  R-squared:         </th> <td>   0.003</td>\n",
       "</tr>\n",
       "<tr>\n",
       "  <th>Model:</th>                   <td>OLS</td>       <th>  Adj. R-squared:    </th> <td>   0.002</td>\n",
       "</tr>\n",
       "<tr>\n",
       "  <th>Method:</th>             <td>Least Squares</td>  <th>  F-statistic:       </th> <td>   15.31</td>\n",
       "</tr>\n",
       "<tr>\n",
       "  <th>Date:</th>             <td>Thu, 19 Apr 2018</td> <th>  Prob (F-statistic):</th> <td>9.24e-05</td>\n",
       "</tr>\n",
       "<tr>\n",
       "  <th>Time:</th>                 <td>17:15:51</td>     <th>  Log-Likelihood:    </th> <td> -3888.1</td>\n",
       "</tr>\n",
       "<tr>\n",
       "  <th>No. Observations:</th>      <td>  5735</td>      <th>  AIC:               </th> <td>   7780.</td>\n",
       "</tr>\n",
       "<tr>\n",
       "  <th>Df Residuals:</th>          <td>  5733</td>      <th>  BIC:               </th> <td>   7794.</td>\n",
       "</tr>\n",
       "<tr>\n",
       "  <th>Df Model:</th>              <td>     1</td>      <th>                     </th>     <td> </td>   \n",
       "</tr>\n",
       "<tr>\n",
       "  <th>Covariance Type:</th>      <td>nonrobust</td>    <th>                     </th>     <td> </td>   \n",
       "</tr>\n",
       "</table>\n",
       "<table class=\"simpletable\">\n",
       "<tr>\n",
       "      <td></td>         <th>coef</th>     <th>std err</th>      <th>t</th>      <th>P>|t|</th>  <th>[0.025</th>    <th>0.975]</th>  \n",
       "</tr>\n",
       "<tr>\n",
       "  <th>Intercept</th> <td>    0.6297</td> <td>    0.008</td> <td>   78.709</td> <td> 0.000</td> <td>    0.614</td> <td>    0.645</td>\n",
       "</tr>\n",
       "<tr>\n",
       "  <th>swang_num</th> <td>    0.0507</td> <td>    0.013</td> <td>    3.912</td> <td> 0.000</td> <td>    0.025</td> <td>    0.076</td>\n",
       "</tr>\n",
       "</table>\n",
       "<table class=\"simpletable\">\n",
       "<tr>\n",
       "  <th>Omnibus:</th>       <td>315.261</td> <th>  Durbin-Watson:     </th> <td>   1.996</td> \n",
       "</tr>\n",
       "<tr>\n",
       "  <th>Prob(Omnibus):</th> <td> 0.000</td>  <th>  Jarque-Bera (JB):  </th> <td> 982.605</td> \n",
       "</tr>\n",
       "<tr>\n",
       "  <th>Skew:</th>          <td>-0.622</td>  <th>  Prob(JB):          </th> <td>4.27e-214</td>\n",
       "</tr>\n",
       "<tr>\n",
       "  <th>Kurtosis:</th>      <td> 1.398</td>  <th>  Cond. No.          </th> <td>    2.43</td> \n",
       "</tr>\n",
       "</table>"
      ],
      "text/plain": [
       "<class 'statsmodels.iolib.summary.Summary'>\n",
       "\"\"\"\n",
       "                            OLS Regression Results                            \n",
       "==============================================================================\n",
       "Dep. Variable:              death_num   R-squared:                       0.003\n",
       "Model:                            OLS   Adj. R-squared:                  0.002\n",
       "Method:                 Least Squares   F-statistic:                     15.31\n",
       "Date:                Thu, 19 Apr 2018   Prob (F-statistic):           9.24e-05\n",
       "Time:                        17:15:51   Log-Likelihood:                -3888.1\n",
       "No. Observations:                5735   AIC:                             7780.\n",
       "Df Residuals:                    5733   BIC:                             7794.\n",
       "Df Model:                           1                                         \n",
       "Covariance Type:            nonrobust                                         \n",
       "==============================================================================\n",
       "                 coef    std err          t      P>|t|      [0.025      0.975]\n",
       "------------------------------------------------------------------------------\n",
       "Intercept      0.6297      0.008     78.709      0.000       0.614       0.645\n",
       "swang_num      0.0507      0.013      3.912      0.000       0.025       0.076\n",
       "==============================================================================\n",
       "Omnibus:                      315.261   Durbin-Watson:                   1.996\n",
       "Prob(Omnibus):                  0.000   Jarque-Bera (JB):              982.605\n",
       "Skew:                          -0.622   Prob(JB):                    4.27e-214\n",
       "Kurtosis:                       1.398   Cond. No.                         2.43\n",
       "==============================================================================\n",
       "\n",
       "Warnings:\n",
       "[1] Standard Errors assume that the covariance matrix of the errors is correctly specified.\n",
       "\"\"\""
      ]
     },
     "execution_count": 95,
     "metadata": {},
     "output_type": "execute_result"
    }
   ],
   "source": [
    "df['swang_num'] = df['swang1'].replace('No RHC', 0).replace('RHC', 1) \n",
    "df['death_num'] = df['death'].replace('Yes', 1).replace('No', 0)\n",
    "lm = smf.ols(formula = 'death_num ~ swang_num', data=df).fit()\n",
    "lm.summary()\n"
   ]
  },
  {
   "cell_type": "markdown",
   "metadata": {
    "ein.tags": "worksheet-0",
    "slideshow": {
     "slide_type": "-"
    }
   },
   "source": [
    "#### Comment your results.\n",
    "##### confidence interval\n",
    "between 0.025 and 0.076\n",
    "##### Betas: \n",
    "Intercept 0.6297, slope is 0.0507-> lies within our confidence interval \n",
    "R squared in low, like 2% not so good"
   ]
  },
  {
   "cell_type": "markdown",
   "metadata": {
    "ein.tags": "worksheet-0",
    "slideshow": {
     "slide_type": "-"
    }
   },
   "source": [
    "## 3 Address some of the issues\n",
    "\n",
    "Now let's try to address some of the issues with the estimator above.\n",
    "The dataset includes many other patient descriptors.\n"
   ]
  },
  {
   "cell_type": "markdown",
   "metadata": {
    "ein.tags": "worksheet-0",
    "slideshow": {
     "slide_type": "-"
    }
   },
   "source": [
    "### 3.1 Let's include 'age' and 'sex'.\n",
    "#### How are these coded?\n",
    "\n",
    "Sex is in male and female\n",
    "Age is a numeric value"
   ]
  },
  {
   "cell_type": "code",
   "execution_count": 96,
   "metadata": {},
   "outputs": [
    {
     "name": "stdout",
     "output_type": "stream",
     "text": [
      "data type and sex is  object\n",
      "data type of age is  float64\n"
     ]
    }
   ],
   "source": [
    "df['sex_num'] = df['sex'].replace('Male', 0).replace('Female', 1) \n",
    "print('data type and sex is ', df['sex'].dtype)\n",
    "print('data type of age is ', df['age'].dtype)\n"
   ]
  },
  {
   "cell_type": "markdown",
   "metadata": {
    "ein.tags": "worksheet-0",
    "slideshow": {
     "slide_type": "-"
    }
   },
   "source": [
    "#### What do you find?\n",
    "Age and sex should be added into the regression. May increse R squared value\n",
    "\n",
    "\n"
   ]
  },
  {
   "cell_type": "markdown",
   "metadata": {
    "ein.tags": "worksheet-0",
    "slideshow": {
     "slide_type": "-"
    }
   },
   "source": [
    "### 3.2 Include age and sex in the regression\n",
    "\n",
    "Now allow the death to depend on gender and age, on top of that it may\n",
    "depend on rhc.  Note that it may not just depend on age in a linear\n",
    "fashion but in a much more complex way, so include not just $age$ but\n",
    "also $age^2$ and $age^3$ as explanatory variables."
   ]
  },
  {
   "cell_type": "code",
   "execution_count": 97,
   "metadata": {},
   "outputs": [
    {
     "data": {
      "text/html": [
       "<table class=\"simpletable\">\n",
       "<caption>OLS Regression Results</caption>\n",
       "<tr>\n",
       "  <th>Dep. Variable:</th>        <td>death_num</td>    <th>  R-squared:         </th> <td>   0.044</td>\n",
       "</tr>\n",
       "<tr>\n",
       "  <th>Model:</th>                   <td>OLS</td>       <th>  Adj. R-squared:    </th> <td>   0.044</td>\n",
       "</tr>\n",
       "<tr>\n",
       "  <th>Method:</th>             <td>Least Squares</td>  <th>  F-statistic:       </th> <td>   88.03</td>\n",
       "</tr>\n",
       "<tr>\n",
       "  <th>Date:</th>             <td>Thu, 19 Apr 2018</td> <th>  Prob (F-statistic):</th> <td>1.09e-55</td>\n",
       "</tr>\n",
       "<tr>\n",
       "  <th>Time:</th>                 <td>17:15:55</td>     <th>  Log-Likelihood:    </th> <td> -3766.6</td>\n",
       "</tr>\n",
       "<tr>\n",
       "  <th>No. Observations:</th>      <td>  5735</td>      <th>  AIC:               </th> <td>   7541.</td>\n",
       "</tr>\n",
       "<tr>\n",
       "  <th>Df Residuals:</th>          <td>  5731</td>      <th>  BIC:               </th> <td>   7568.</td>\n",
       "</tr>\n",
       "<tr>\n",
       "  <th>Df Model:</th>              <td>     3</td>      <th>                     </th>     <td> </td>   \n",
       "</tr>\n",
       "<tr>\n",
       "  <th>Covariance Type:</th>      <td>nonrobust</td>    <th>                     </th>     <td> </td>   \n",
       "</tr>\n",
       "</table>\n",
       "<table class=\"simpletable\">\n",
       "<tr>\n",
       "      <td></td>         <th>coef</th>     <th>std err</th>      <th>t</th>      <th>P>|t|</th>  <th>[0.025</th>    <th>0.975]</th>  \n",
       "</tr>\n",
       "<tr>\n",
       "  <th>Intercept</th> <td>    0.4903</td> <td>    0.013</td> <td>   36.360</td> <td> 0.000</td> <td>    0.464</td> <td>    0.517</td>\n",
       "</tr>\n",
       "<tr>\n",
       "  <th>swang_num</th> <td>    0.0610</td> <td>    0.013</td> <td>    4.795</td> <td> 0.000</td> <td>    0.036</td> <td>    0.086</td>\n",
       "</tr>\n",
       "<tr>\n",
       "  <th>sex_num</th>   <td>   -0.0264</td> <td>    0.012</td> <td>   -2.122</td> <td> 0.034</td> <td>   -0.051</td> <td>   -0.002</td>\n",
       "</tr>\n",
       "<tr>\n",
       "  <th>age3</th>      <td> 5.251e-07</td> <td> 3.35e-08</td> <td>   15.696</td> <td> 0.000</td> <td>  4.6e-07</td> <td> 5.91e-07</td>\n",
       "</tr>\n",
       "</table>\n",
       "<table class=\"simpletable\">\n",
       "<tr>\n",
       "  <th>Omnibus:</th>       <td>281.054</td> <th>  Durbin-Watson:     </th> <td>   1.996</td> \n",
       "</tr>\n",
       "<tr>\n",
       "  <th>Prob(Omnibus):</th> <td> 0.000</td>  <th>  Jarque-Bera (JB):  </th> <td> 843.800</td> \n",
       "</tr>\n",
       "<tr>\n",
       "  <th>Skew:</th>          <td>-0.582</td>  <th>  Prob(JB):          </th> <td>5.90e-184</td>\n",
       "</tr>\n",
       "<tr>\n",
       "  <th>Kurtosis:</th>      <td> 1.525</td>  <th>  Cond. No.          </th> <td>8.96e+05</td> \n",
       "</tr>\n",
       "</table>"
      ],
      "text/plain": [
       "<class 'statsmodels.iolib.summary.Summary'>\n",
       "\"\"\"\n",
       "                            OLS Regression Results                            \n",
       "==============================================================================\n",
       "Dep. Variable:              death_num   R-squared:                       0.044\n",
       "Model:                            OLS   Adj. R-squared:                  0.044\n",
       "Method:                 Least Squares   F-statistic:                     88.03\n",
       "Date:                Thu, 19 Apr 2018   Prob (F-statistic):           1.09e-55\n",
       "Time:                        17:15:55   Log-Likelihood:                -3766.6\n",
       "No. Observations:                5735   AIC:                             7541.\n",
       "Df Residuals:                    5731   BIC:                             7568.\n",
       "Df Model:                           3                                         \n",
       "Covariance Type:            nonrobust                                         \n",
       "==============================================================================\n",
       "                 coef    std err          t      P>|t|      [0.025      0.975]\n",
       "------------------------------------------------------------------------------\n",
       "Intercept      0.4903      0.013     36.360      0.000       0.464       0.517\n",
       "swang_num      0.0610      0.013      4.795      0.000       0.036       0.086\n",
       "sex_num       -0.0264      0.012     -2.122      0.034      -0.051      -0.002\n",
       "age3        5.251e-07   3.35e-08     15.696      0.000     4.6e-07    5.91e-07\n",
       "==============================================================================\n",
       "Omnibus:                      281.054   Durbin-Watson:                   1.996\n",
       "Prob(Omnibus):                  0.000   Jarque-Bera (JB):              843.800\n",
       "Skew:                          -0.582   Prob(JB):                    5.90e-184\n",
       "Kurtosis:                       1.525   Cond. No.                     8.96e+05\n",
       "==============================================================================\n",
       "\n",
       "Warnings:\n",
       "[1] Standard Errors assume that the covariance matrix of the errors is correctly specified.\n",
       "[2] The condition number is large, 8.96e+05. This might indicate that there are\n",
       "strong multicollinearity or other numerical problems.\n",
       "\"\"\""
      ]
     },
     "execution_count": 97,
     "metadata": {},
     "output_type": "execute_result"
    }
   ],
   "source": [
    "df['age2'] = df['age'] * df['age']\n",
    "df['age3'] = df['age'] * df['age'] * df['age']\n",
    "lm1 = smf.ols(formula = 'death_num ~ swang_num + sex_num + age', data=df).fit()\n",
    "lm2 = smf.ols(formula = 'death_num ~ swang_num + sex_num + age2', data=df).fit()\n",
    "lm3 = smf.ols(formula = 'death_num ~ swang_num + sex_num  + age3', data=df).fit()\n",
    "lm1.summary()\n",
    "lm2.summary()\n",
    "lm3.summary()\n"
   ]
  },
  {
   "cell_type": "markdown",
   "metadata": {
    "ein.tags": "worksheet-0",
    "slideshow": {
     "slide_type": "-"
    }
   },
   "source": [
    "### Comment your results\n",
    "#### Betas: \n",
    "Intercept is 0.2561, slope of swang/death is 0.0559, the slope of sex/death is -0.0238 (not sure if men or woomen were baseline) and the slope of age/death is 0.0062\n",
    "\n",
    "#### Confidence: \n",
    "There is a 95% chance that the swang outcome will lie between -0.031 and 0.081 of the intercept. Sex is between -0.048 and\t0.001 of the intercept, and age is -0.006 and 0.007 of the intercept. looks like sometthing odd is going on with age\n",
    "\n",
    "#### R Squared: 5%. not so good\n",
    "\n"
   ]
  },
  {
   "cell_type": "markdown",
   "metadata": {
    "ein.tags": "worksheet-0",
    "slideshow": {
     "slide_type": "-"
    }
   },
   "source": [
    "## 4 Design matrices of the models\n",
    "\n",
    "Each linear model (and many other models) have associated _design\n",
    "matrices_.  Design matrix is the matrix of all your explanatory\n",
    "variables (all x-s) in the final numeric matrix form.  This includes\n",
    "* adding a constant column\n",
    "* converting categorical/non-numeric variables into suitable numeric\n",
    "variables\n",
    "\n",
    "You next task is to create/extract the design matrices of both of the\n",
    "models above, investigate their numeric properties (condition\n",
    "numbers), and solve the linear regression problem in matrix form.\n",
    "\n",
    "We did not have time in the class to talk about it, but there is a\n",
    "closed-form solution for the linear regression problem:  beta =\n",
    "$(X'X)^{-1} X'y$.  Compute this solution and compare with the regression\n",
    "package output above.\n",
    "\n",
    "\n",
    "### 4.1 First model\n",
    "\n",
    "#### 4.1.1 create the design matrix of it, X.\n",
    "\n",
    "Depending on the way you solved your problem, you may already have\n",
    "created it.  Depending on the way you solved the problem above, you\n",
    "may be able to extract it from the existing model.  You may also redo it\n",
    "manually here.  Remember:\n",
    "* include the constant term!\n",
    "* design matrix must be a _matrix_, not data frame or something else."
   ]
  },
  {
   "cell_type": "code",
   "execution_count": 98,
   "metadata": {},
   "outputs": [
    {
     "name": "stdout",
     "output_type": "stream",
     "text": [
      "death matrix\n",
      " [[0.]\n",
      " [1.]\n",
      " [0.]\n",
      " ...\n",
      " [1.]\n",
      " [1.]\n",
      " [1.]]\n",
      "swang matrix\n",
      " [[1. 0.]\n",
      " [1. 1.]\n",
      " [1. 1.]\n",
      " ...\n",
      " [1. 0.]\n",
      " [1. 0.]\n",
      " [1. 0.]]\n"
     ]
    }
   ],
   "source": [
    "import patsy\n",
    "f = 'death_num ~ swang_num'\n",
    "y,X = patsy.dmatrices(f, df, return_type='matrix')\n",
    "print('death matrix\\n', y)\n",
    "print('swang matrix\\n', X)\n"
   ]
  },
  {
   "cell_type": "code",
   "execution_count": 101,
   "metadata": {},
   "outputs": [
    {
     "name": "stdout",
     "output_type": "stream",
     "text": [
      "death matrix\n",
      " [[0.]\n",
      " [1.]\n",
      " [0.]\n",
      " ...\n",
      " [1.]\n",
      " [1.]\n",
      " [1.]]\n",
      "swang, age, sex matrix\n",
      " [[1.00000000e+00 0.00000000e+00 0.00000000e+00 4.93520019e+03]\n",
      " [1.00000000e+00 1.00000000e+00 1.00000000e+00 6.11194979e+03]\n",
      " [1.00000000e+00 1.00000000e+00 1.00000000e+00 2.12447062e+03]\n",
      " ...\n",
      " [1.00000000e+00 0.00000000e+00 0.00000000e+00 6.47783362e+03]\n",
      " [1.00000000e+00 0.00000000e+00 0.00000000e+00 4.53992560e+03]\n",
      " [1.00000000e+00 0.00000000e+00 1.00000000e+00 2.98814962e+03]]\n"
     ]
    }
   ],
   "source": [
    "h = 'death_num ~ swang_num + sex_num + age2'\n",
    "y_1,X_1 = patsy.dmatrices(h, df, return_type='matrix')\n",
    "print('death matrix\\n', y_1)\n",
    "print('swang, age, sex matrix\\n', X_1)\n"
   ]
  },
  {
   "cell_type": "markdown",
   "metadata": {
    "ein.tags": "worksheet-0",
    "slideshow": {
     "slide_type": "-"
    }
   },
   "source": [
    "#### 4.1.2 Compute the condition number of X`X.\n",
    "\n",
    "You may choose whatever definition you like, but please report what\n",
    "are you using."
   ]
  },
  {
   "cell_type": "code",
   "execution_count": 102,
   "metadata": {},
   "outputs": [
    {
     "name": "stdout",
     "output_type": "stream",
     "text": [
      "Condition number\n",
      " [[5.73500000e+03 2.18400000e+03]\n",
      " [2.18400000e+03 2.18400000e+03]\n",
      " [2.54300000e+03 9.06000000e+02]\n",
      " [2.31994357e+07 8.59349270e+06]]\n"
     ]
    }
   ],
   "source": [
    "# using Matrix definition using sex, age squared, and swang\n",
    "condition_number = X_1.T @ X\n",
    "print('Condition number\\n', condition_number)"
   ]
  },
  {
   "cell_type": "markdown",
   "metadata": {
    "ein.tags": "worksheet-0",
    "slideshow": {
     "slide_type": "-"
    }
   },
   "source": [
    "#### 4.1.3 Compute your regression coefficients using the formula above.\n",
    "\n",
    "Note: you also need your outcome variable $y$ in numeric matrix\n",
    "form. "
   ]
  },
  {
   "cell_type": "code",
   "execution_count": 103,
   "metadata": {},
   "outputs": [
    {
     "data": {
      "text/html": [
       "<table class=\"simpletable\">\n",
       "<caption>OLS Regression Results</caption>\n",
       "<tr>\n",
       "  <th>Dep. Variable:</th>        <td>death_num</td>    <th>  R-squared:         </th> <td>   0.048</td>\n",
       "</tr>\n",
       "<tr>\n",
       "  <th>Model:</th>                   <td>OLS</td>       <th>  Adj. R-squared:    </th> <td>   0.047</td>\n",
       "</tr>\n",
       "<tr>\n",
       "  <th>Method:</th>             <td>Least Squares</td>  <th>  F-statistic:       </th> <td>   95.89</td>\n",
       "</tr>\n",
       "<tr>\n",
       "  <th>Date:</th>             <td>Thu, 19 Apr 2018</td> <th>  Prob (F-statistic):</th> <td>1.48e-60</td>\n",
       "</tr>\n",
       "<tr>\n",
       "  <th>Time:</th>                 <td>17:16:45</td>     <th>  Log-Likelihood:    </th> <td> -3755.3</td>\n",
       "</tr>\n",
       "<tr>\n",
       "  <th>No. Observations:</th>      <td>  5735</td>      <th>  AIC:               </th> <td>   7519.</td>\n",
       "</tr>\n",
       "<tr>\n",
       "  <th>Df Residuals:</th>          <td>  5731</td>      <th>  BIC:               </th> <td>   7545.</td>\n",
       "</tr>\n",
       "<tr>\n",
       "  <th>Df Model:</th>              <td>     3</td>      <th>                     </th>     <td> </td>   \n",
       "</tr>\n",
       "<tr>\n",
       "  <th>Covariance Type:</th>      <td>nonrobust</td>    <th>                     </th>     <td> </td>   \n",
       "</tr>\n",
       "</table>\n",
       "<table class=\"simpletable\">\n",
       "<tr>\n",
       "      <td></td>         <th>coef</th>     <th>std err</th>      <th>t</th>      <th>P>|t|</th>  <th>[0.025</th>    <th>0.975]</th>  \n",
       "</tr>\n",
       "<tr>\n",
       "  <th>Intercept</th> <td>    0.4270</td> <td>    0.016</td> <td>   26.600</td> <td> 0.000</td> <td>    0.396</td> <td>    0.458</td>\n",
       "</tr>\n",
       "<tr>\n",
       "  <th>swang_num</th> <td>    0.0589</td> <td>    0.013</td> <td>    4.636</td> <td> 0.000</td> <td>    0.034</td> <td>    0.084</td>\n",
       "</tr>\n",
       "<tr>\n",
       "  <th>sex_num</th>   <td>   -0.0253</td> <td>    0.012</td> <td>   -2.042</td> <td> 0.041</td> <td>   -0.050</td> <td>   -0.001</td>\n",
       "</tr>\n",
       "<tr>\n",
       "  <th>age2</th>      <td> 5.212e-05</td> <td> 3.17e-06</td> <td>   16.428</td> <td> 0.000</td> <td> 4.59e-05</td> <td> 5.83e-05</td>\n",
       "</tr>\n",
       "</table>\n",
       "<table class=\"simpletable\">\n",
       "<tr>\n",
       "  <th>Omnibus:</th>       <td>282.228</td> <th>  Durbin-Watson:     </th> <td>   1.997</td> \n",
       "</tr>\n",
       "<tr>\n",
       "  <th>Prob(Omnibus):</th> <td> 0.000</td>  <th>  Jarque-Bera (JB):  </th> <td> 829.038</td> \n",
       "</tr>\n",
       "<tr>\n",
       "  <th>Skew:</th>          <td>-0.583</td>  <th>  Prob(JB):          </th> <td>9.48e-181</td>\n",
       "</tr>\n",
       "<tr>\n",
       "  <th>Kurtosis:</th>      <td> 1.548</td>  <th>  Cond. No.          </th> <td>1.30e+04</td> \n",
       "</tr>\n",
       "</table>"
      ],
      "text/plain": [
       "<class 'statsmodels.iolib.summary.Summary'>\n",
       "\"\"\"\n",
       "                            OLS Regression Results                            \n",
       "==============================================================================\n",
       "Dep. Variable:              death_num   R-squared:                       0.048\n",
       "Model:                            OLS   Adj. R-squared:                  0.047\n",
       "Method:                 Least Squares   F-statistic:                     95.89\n",
       "Date:                Thu, 19 Apr 2018   Prob (F-statistic):           1.48e-60\n",
       "Time:                        17:16:45   Log-Likelihood:                -3755.3\n",
       "No. Observations:                5735   AIC:                             7519.\n",
       "Df Residuals:                    5731   BIC:                             7545.\n",
       "Df Model:                           3                                         \n",
       "Covariance Type:            nonrobust                                         \n",
       "==============================================================================\n",
       "                 coef    std err          t      P>|t|      [0.025      0.975]\n",
       "------------------------------------------------------------------------------\n",
       "Intercept      0.4270      0.016     26.600      0.000       0.396       0.458\n",
       "swang_num      0.0589      0.013      4.636      0.000       0.034       0.084\n",
       "sex_num       -0.0253      0.012     -2.042      0.041      -0.050      -0.001\n",
       "age2        5.212e-05   3.17e-06     16.428      0.000    4.59e-05    5.83e-05\n",
       "==============================================================================\n",
       "Omnibus:                      282.228   Durbin-Watson:                   1.997\n",
       "Prob(Omnibus):                  0.000   Jarque-Bera (JB):              829.038\n",
       "Skew:                          -0.583   Prob(JB):                    9.48e-181\n",
       "Kurtosis:                       1.548   Cond. No.                     1.30e+04\n",
       "==============================================================================\n",
       "\n",
       "Warnings:\n",
       "[1] Standard Errors assume that the covariance matrix of the errors is correctly specified.\n",
       "[2] The condition number is large, 1.3e+04. This might indicate that there are\n",
       "strong multicollinearity or other numerical problems.\n",
       "\"\"\""
      ]
     },
     "execution_count": 103,
     "metadata": {},
     "output_type": "execute_result"
    }
   ],
   "source": [
    "sm.OLS(y_1, X_1).fit().summary()"
   ]
  },
  {
   "cell_type": "markdown",
   "metadata": {
    "ein.tags": "worksheet-0",
    "slideshow": {
     "slide_type": "-"
    }
   },
   "source": [
    "#### 4.1.4 Compare your coefficients here with the OLS results above."
   ]
  },
  {
   "cell_type": "code",
   "execution_count": null,
   "metadata": {
    "collapsed": true
   },
   "outputs": [],
   "source": [
    "# they are exactly the same betas. GO US :) "
   ]
  }
 ],
 "metadata": {
  "kernelspec": {
   "display_name": "Python 3",
   "language": "python",
   "name": "python3"
  },
  "language_info": {
   "codemirror_mode": {
    "name": "ipython",
    "version": 3
   },
   "file_extension": ".py",
   "mimetype": "text/x-python",
   "name": "python",
   "nbconvert_exporter": "python",
   "pygments_lexer": "ipython3",
   "version": "3.6.3"
  },
  "name": "lab04_ols_causality_complete.ipynb"
 },
 "nbformat": 4,
 "nbformat_minor": 2
}
