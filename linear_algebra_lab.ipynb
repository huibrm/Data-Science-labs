{
 "cells": [
  {
   "cell_type": "markdown",
   "metadata": {
    "ein.tags": [
     "worksheet-0"
    ],
    "slideshow": {
     "slide_type": "-"
    }
   },
   "source": [
    "# Linear algebra\n",
    "\n",
    "This is a lab that helps you learn linear algebra (and the related numpy commands.)  Consult Greene \"Econometric Analysis\" Appendix A when solving these problems.\n"
   ]
  },
  {
   "cell_type": "markdown",
   "metadata": {},
   "source": [
    "Import appropriate packages"
   ]
  },
  {
   "cell_type": "code",
   "execution_count": 62,
   "metadata": {
    "autoscroll": "json-false",
    "collapsed": true,
    "ein.tags": [
     "worksheet-0"
    ],
    "slideshow": {
     "slide_type": "-"
    }
   },
   "outputs": [],
   "source": [
    "import numpy as np\n",
    "import matplotlib.pyplot as plt\n",
    "import math as math\n",
    "%matplotlib inline"
   ]
  },
  {
   "cell_type": "markdown",
   "metadata": {
    "ein.tags": [
     "worksheet-0"
    ],
    "slideshow": {
     "slide_type": "-"
    }
   },
   "source": [
    "## 1 Matrix multiplication\n",
    "* create the following matrices:\n",
    "a = [ 1 2 3 4], b = [5 6 7 8 ]'\n",
    "(note: b includes the transpose sign)\n",
    "* compute the following matrix products $a \\cdot b$ and $a' \\cdot b'$"
   ]
  },
  {
   "cell_type": "code",
   "execution_count": 63,
   "metadata": {
    "autoscroll": "json-false",
    "ein.tags": [
     "worksheet-0"
    ],
    "slideshow": {
     "slide_type": "-"
    }
   },
   "outputs": [
    {
     "name": "stdout",
     "output_type": "stream",
     "text": [
      "[[1 2 3 4]]\n",
      "[[5 6 7 8]]\n",
      "[[5]\n",
      " [6]\n",
      " [7]\n",
      " [8]]\n",
      "[[70]]\n",
      "[[70]]\n"
     ]
    }
   ],
   "source": [
    "a = np.matrix(\"1 2 3 4\")\n",
    "print(a)\n",
    "b = np.matrix('5 6 7 8')\n",
    "print(b)\n",
    "bt = b.T\n",
    "print(bt)\n",
    "at = a.T\n",
    "#print(at @ bt)\n",
    "print(a * bt)\n",
    "print(b*at)"
   ]
  },
  {
   "cell_type": "markdown",
   "metadata": {
    "ein.tags": [
     "worksheet-0"
    ],
    "slideshow": {
     "slide_type": "-"
    }
   },
   "source": [
    "## 2 Linear (in)dependence\n",
    "Consider three vectors:\n",
    "a = [1 2 3 4],\n",
    "b = [5 6 7 8] and\n",
    "c = [9 10 11 12]\n",
    "\n",
    "* are these vectors linearly independent?  Calculate the rank, a related determinant, and show how they are related/unrelated"
   ]
  },
  {
   "cell_type": "code",
   "execution_count": 64,
   "metadata": {
    "autoscroll": "json-false",
    "ein.tags": [
     "worksheet-0"
    ],
    "slideshow": {
     "slide_type": "-"
    }
   },
   "outputs": [
    {
     "name": "stdout",
     "output_type": "stream",
     "text": [
      "[[ 1  2  3  4]\n",
      " [ 5  6  7  8]\n",
      " [ 9 10 11 12]]\n",
      "2\n",
      "0.0\n"
     ]
    }
   ],
   "source": [
    "c = np.matrix('9 10 11 12')\n",
    "A = np.matrix('1 2 3 4; 5 6 7 8; 9 10 11 12')\n",
    "print(A)\n",
    "print(np.linalg.matrix_rank(A))\n",
    "# the determinant of this matrix is zero because it is not full ranked (rank = 2), which means it is dependendent\n",
    "\n",
    "# showing determinent == 0\n",
    "# fist make a square matrix by multiplying by transpose\n",
    "At = np.transpose(A)\n",
    "print(np.linalg.det(A@At)) \n"
   ]
  },
  {
   "cell_type": "markdown",
   "metadata": {
    "ein.tags": [
     "worksheet-0"
    ],
    "slideshow": {
     "slide_type": "-"
    }
   },
   "source": [
    "## 3 Find the inverses of the following matrices:\n",
    "\n",
    "\n",
    "A = [ <br/>\n",
    "    1 2 3 4 <br/>\n",
    "5 6 7 8 <br/>\n",
    "-1 10 11 12 <br/>\n",
    "13 14 15 17 ],\n",
    "\n",
    "B = [ <br/>\n",
    "    1 0 0 <br/>\n",
    "     0 4 0 <br/>\n",
    "     0 0 16]\n",
    "\n",
    "and\n",
    "\n",
    "C = [ <br/>\n",
    "    1 2 3 4 <br/>\n",
    "      5 6 7 8 <br/>\n",
    "      9 10 11 12 <br/>\n",
    "      13 14 15 17 ]\n",
    "\n",
    "* Check the results by left- and right multiplication of the inverse.  Explain."
   ]
  },
  {
   "cell_type": "code",
   "execution_count": 65,
   "metadata": {
    "autoscroll": "json-false",
    "ein.tags": [
     "worksheet-0"
    ],
    "slideshow": {
     "slide_type": "-"
    }
   },
   "outputs": [
    {
     "name": "stdout",
     "output_type": "stream",
     "text": [
      "[[ 1  2  3  4]\n",
      " [ 5  6  7  8]\n",
      " [-1 10 11 12]\n",
      " [13 14 15 17]]\n",
      "[[ 1  0  0]\n",
      " [ 0  4  0]\n",
      " [ 0  0 16]]\n",
      "[[ 1  2  3  4]\n",
      " [ 5  6  7  8]\n",
      " [ 9 10 11 12]\n",
      " [13 14 15 17]]\n"
     ]
    }
   ],
   "source": [
    "# construction of matrix\n",
    "A = np.matrix('1 2 3 4; 5 6 7 8; -1 10 11 12; 13 14 15 17')\n",
    "B = np.matrix('1 0 0; 0 4 0; 0 0 16')\n",
    "C = np.matrix('1 2 3 4; 5 6 7 8; 9 10 11 12; 13 14 15 17')\n",
    "print(A)\n",
    "print(B)\n",
    "print(C)"
   ]
  },
  {
   "cell_type": "code",
   "execution_count": 66,
   "metadata": {},
   "outputs": [
    {
     "name": "stdout",
     "output_type": "stream",
     "text": [
      "\n",
      " Inverse of Matrix A and left/right multiplication\n",
      "\n",
      " [[-1.00000000e-01  2.00000000e-01 -1.00000000e-01  6.83214169e-16]\n",
      " [ 4.50000000e-01 -2.65000000e+00  2.00000000e-01  1.00000000e+00]\n",
      " [-2.60000000e+00  5.70000000e+00 -1.00000000e-01 -2.00000000e+00]\n",
      " [ 2.00000000e+00 -3.00000000e+00 -2.08166817e-16  1.00000000e+00]]\n",
      "\n",
      " [[ 1.00000000e+00 -1.77635684e-15  2.85962078e-30  4.44089210e-16]\n",
      " [ 3.55271368e-15  1.00000000e+00  5.71924156e-30  2.66453526e-15]\n",
      " [ 0.00000000e+00  7.10542736e-15  1.00000000e+00 -1.77635684e-15]\n",
      " [ 0.00000000e+00  0.00000000e+00  1.38777878e-17  1.00000000e+00]]\n",
      "\n",
      " [[ 1.00000000e+00  2.12650410e-15  2.47665136e-15  2.95490128e-15]\n",
      " [ 0.00000000e+00  1.00000000e+00  0.00000000e+00 -3.55271368e-15]\n",
      " [ 3.55271368e-15  0.00000000e+00  1.00000000e+00  7.10542736e-15]\n",
      " [-1.77635684e-15 -3.55271368e-15 -1.77635684e-15  1.00000000e+00]]\n",
      "\n",
      " Inverse of Matrix B and left/right multiplication\n",
      "\n",
      " [[1.     0.     0.    ]\n",
      " [0.     0.25   0.    ]\n",
      " [0.     0.     0.0625]]\n",
      "\n",
      " [[1. 0. 0.]\n",
      " [0. 1. 0.]\n",
      " [0. 0. 1.]]\n",
      "\n",
      " [[1. 0. 0.]\n",
      " [0. 1. 0.]\n",
      " [0. 0. 1.]]\n",
      "\n",
      " Inverse of Matrix C and left/right multiplication\n",
      "\n",
      " [[-2.81474977e+14  5.62949953e+14 -2.81474977e+14  1.56250000e+00]\n",
      " [ 5.62949953e+14 -1.12589991e+15  5.62949953e+14 -2.12500000e+00]\n",
      " [-2.81474977e+14  5.62949953e+14 -2.81474977e+14 -4.37500000e-01]\n",
      " [ 1.25000000e+00 -1.50000000e+00 -7.50000000e-01  1.00000000e+00]]\n",
      "\n",
      " [[ 1.12500000e+00  4.44089210e-15  2.22044605e-15 -4.44089210e-16]\n",
      " [ 5.00000000e-01  5.00000000e-01  2.50000000e-01  0.00000000e+00]\n",
      " [ 5.00000000e-01  1.00000000e+00  7.10542736e-15  3.55271368e-15]\n",
      " [ 2.50000000e-01 -5.00000000e-01 -7.50000000e-01  1.00000000e+00]]\n",
      "\n",
      " [[ 8.12500000e-01 -1.25000000e-01 -5.62500000e-01  5.62500000e-01]\n",
      " [ 3.75000000e-01  2.50000000e-01  1.25000000e-01 -1.12500000e+00]\n",
      " [ 3.12500000e-01  8.75000000e-01  9.37500000e-01  1.06250000e+00]\n",
      " [ 1.77635684e-15  1.77635684e-15  0.00000000e+00  1.00000000e+00]]\n"
     ]
    }
   ],
   "source": [
    "A_in = np.linalg.inv(A)\n",
    "print('\\n','Inverse of Matrix A and left/right multiplication')\n",
    "print('\\n', A_in)\n",
    "print('\\n', A @ A_in)\n",
    "print('\\n', A_in @ A)\n",
    "print('\\n','Inverse of Matrix B and left/right multiplication')\n",
    "B_in = np.linalg.inv(B)\n",
    "print('\\n', B_in)\n",
    "print('\\n', B @ B_in)\n",
    "print('\\n', B_in @ B)\n",
    "print('\\n', 'Inverse of Matrix C and left/right multiplication')\n",
    "C_in = np.linalg.inv(C)\n",
    "print('\\n', C_in)\n",
    "print('\\n', C @ C_in)\n",
    "print('\\n', C_in @ C)"
   ]
  },
  {
   "cell_type": "markdown",
   "metadata": {
    "ein.tags": [
     "worksheet-0"
    ],
    "slideshow": {
     "slide_type": "-"
    }
   },
   "source": [
    "## 4 Characteristic roots\n",
    "* Find the roots (eigenvalues) of the matrices A, B, C above.\n",
    "* Calculate the condition numbers of these matrices in two ways: the default numpy way, and in this way as it is explained in Greene (2003, page 829)\n",
    "* Explain the results"
   ]
  },
  {
   "cell_type": "code",
   "execution_count": 134,
   "metadata": {
    "autoscroll": "json-false",
    "ein.tags": [
     "worksheet-0"
    ],
    "slideshow": {
     "slide_type": "-"
    }
   },
   "outputs": [
    {
     "name": "stdout",
     "output_type": "stream",
     "text": [
      "\n",
      "eigenvalue, eigenvector A\n",
      " [35.83449756  1.34371891 -1.6853005  -0.49291597]\n",
      "\n",
      " [[-0.15251646 -0.1275233   0.22153696  0.08211323]\n",
      " [-0.35160514 -0.13224317 -0.177807   -0.38931136]\n",
      " [-0.50813247  0.81206955  0.73737404  0.80513068]\n",
      " [-0.77130664 -0.55388862 -0.61285036 -0.43983936]]\n",
      "\n",
      "eigenValue, eigenvector B\n",
      " [ 1.  4. 16.]\n",
      "\n",
      " [[1. 0. 0.]\n",
      " [0. 1. 0.]\n",
      " [0. 0. 1.]]\n",
      "\n",
      "eigenValue, eigenvector C\n",
      " [ 3.66727818e+01 -2.00000000e+00 -1.94167590e-15  3.27218155e-01]\n",
      "\n",
      " [[-1.49188579e-01 -7.74596669e-01  4.08248290e-01  2.93452674e-01]\n",
      " [-3.44038583e-01 -2.58198890e-01 -8.16496581e-01 -2.12087586e-01]\n",
      " [-5.38888587e-01  2.58198890e-01  4.08248290e-01 -7.17627846e-01]\n",
      " [-7.54307174e-01  5.16397779e-01  6.25005737e-16  5.94907269e-01]]\n"
     ]
    }
   ],
   "source": [
    "val, vec = np.linalg.eig(A)\n",
    "print('\\neigenvalue, eigenvector A\\n', val)\n",
    "print('\\n',vec)\n",
    "a_max = val.max()\n",
    "a_min = val.min()\n",
    "\n",
    "val, vec = np.linalg.eig(B)\n",
    "print('\\neigenValue, eigenvector B\\n', val)\n",
    "print('\\n',vec)\n",
    "b_max = val.max()\n",
    "b_min = val.min()\n",
    "\n",
    "val,vec = np.linalg.eig(C)\n",
    "print('\\neigenValue, eigenvector C\\n', val)\n",
    "print('\\n',vec)\n",
    "c_max = val.max()\n",
    "c_min = val.min()"
   ]
  },
  {
   "cell_type": "code",
   "execution_count": 141,
   "metadata": {},
   "outputs": [
    {
     "name": "stdout",
     "output_type": "stream",
     "text": [
      "Condition number Matrix A with numpy\n",
      " 299.0502040824254\n",
      "Condition number Matrix B with numpy\n",
      " 16.0\n",
      "Condition number Matrix C with numpy\n",
      " 2.9175891704368506e+17\n"
     ]
    }
   ],
   "source": [
    "print('Condition number Matrix A with numpy\\n', np.linalg.cond(A))\n",
    "print('Condition number Matrix B with numpy\\n', np.linalg.cond(B))\n",
    "print('Condition number Matrix C with numpy\\n', np.linalg.cond(C))"
   ]
  },
  {
   "cell_type": "code",
   "execution_count": 144,
   "metadata": {},
   "outputs": [],
   "source": [
    "import operator\n",
    "def CondNumber(val_max, val_min):\n",
    "    cond = (val_max/val_min)**0.5\n",
    "    return cond\n",
    "    "
   ]
  },
  {
   "cell_type": "code",
   "execution_count": 145,
   "metadata": {},
   "outputs": [
    {
     "name": "stdout",
     "output_type": "stream",
     "text": [
      "Calculated Cond Number A \n",
      " nan\n",
      "Calculated Cond Number A \n",
      " 4.0\n",
      "Calculated Cond Number A \n",
      " nan\n"
     ]
    },
    {
     "name": "stderr",
     "output_type": "stream",
     "text": [
      "C:\\Users\\maryh\\Anaconda3\\lib\\site-packages\\ipykernel_launcher.py:3: RuntimeWarning: invalid value encountered in double_scalars\n",
      "  This is separate from the ipykernel package so we can avoid doing imports until\n"
     ]
    }
   ],
   "source": [
    "print('Calculated Cond Number A \\n', CondNumber(a_max, a_min))\n",
    "print('Calculated Cond Number A \\n', CondNumber(b_max, b_min))\n",
    "print('Calculated Cond Number A \\n', CondNumber(c_max, c_min))\n"
   ]
  },
  {
   "cell_type": "markdown",
   "metadata": {},
   "source": [
    "There are many ways to compute the conditional number. Numpy must default to a ceratain way (norm?) while the we shown in appendex A uses a different method. Since the way in the text does not allow a negitave value to be a condition (by taking a squareroot) we have NaN values present. Perhpas Numpy uses abs or finds complex-number solutions. "
   ]
  }
 ],
 "metadata": {
  "kernelspec": {
   "display_name": "Python 3",
   "language": "python",
   "name": "python3"
  },
  "language_info": {
   "codemirror_mode": {
    "name": "ipython",
    "version": 3
   },
   "file_extension": ".py",
   "mimetype": "text/x-python",
   "name": "python",
   "nbconvert_exporter": "python",
   "pygments_lexer": "ipython3",
   "version": "3.6.3"
  },
  "name": "01_linear_algebra_solutions.ipynb"
 },
 "nbformat": 4,
 "nbformat_minor": 2
}
